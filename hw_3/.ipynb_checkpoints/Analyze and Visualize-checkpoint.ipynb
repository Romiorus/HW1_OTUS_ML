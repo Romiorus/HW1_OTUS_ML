{
 "cells": [
  {
   "cell_type": "markdown",
   "metadata": {},
   "source": [
    "# I. Numpy"
   ]
  },
  {
   "cell_type": "markdown",
   "metadata": {},
   "source": [
    "### Импортируйте NumPy"
   ]
  },
  {
   "cell_type": "code",
   "execution_count": 1,
   "metadata": {},
   "outputs": [],
   "source": [
    "import numpy as np\n"
   ]
  },
  {
   "cell_type": "markdown",
   "metadata": {},
   "source": [
    "### Создайте одномерный массив размера 10, заполненный нулями и пятым элемент равным 1. Трансформируйте в двумерный массив."
   ]
  },
  {
   "cell_type": "code",
   "execution_count": 44,
   "metadata": {},
   "outputs": [
    {
     "name": "stdout",
     "output_type": "stream",
     "text": [
      "task 1, одномерный массив из 0 и пятый элемент 1:\n",
      "[0. 0. 0. 0. 1. 0. 0. 0. 0. 0.]\n",
      "task 2, двумерный массив:\n",
      "[[0. 0. 0. 0. 1.]\n",
      " [0. 0. 0. 0. 0.]]\n"
     ]
    }
   ],
   "source": [
    "# создаем одномерный массив c 0\n",
    "array = np.zeros(10)\n",
    "\n",
    "# пятый элемент равный делаем 1\n",
    "array[4]=1\n",
    "print(\"task 1, одномерный массив из 0 и пятый элемент 1:\")\n",
    "print(array)\n",
    "\n",
    "# делаем массив двумерным\n",
    "array = array.reshape(2,5)\n",
    "print(\"task 2, двумерный массив:\")\n",
    "print(array)\n"
   ]
  },
  {
   "cell_type": "markdown",
   "metadata": {},
   "source": [
    "### Создайте одномерный массив со значениями от 10 до 49 и разверните его (первый элемент становится последним). Найдите в нем все четные элементы."
   ]
  },
  {
   "cell_type": "code",
   "execution_count": 49,
   "metadata": {},
   "outputs": [
    {
     "name": "stdout",
     "output_type": "stream",
     "text": [
      "task 1, одномерный массив, со значениями от 10 до 49: \n",
      "[20 27 37 23 34 28 30 19 10 12 13 19 12 30 39 33 39 29 20 22 45 12 47 36\n",
      " 45 16 47 36 15 20 32 13 11 29 22 33 11 20 25]\n",
      "task 2, развернутый:\n",
      "[25 20 11 33 22 29 11 13 32 20 15 36 47 16 45 36 47 12 45 22 20 29 39 33\n",
      " 39 30 12 19 13 12 10 19 30 28 34 23 37 27 20]\n",
      "task 3, четные элементы массива:\n",
      "[20, 22, 32, 20, 36, 16, 36, 12, 22, 20, 30, 12, 12, 10, 30, 28, 34, 20]\n"
     ]
    }
   ],
   "source": [
    "# создаем одномерный массив со значениями от 10 до 49\n",
    "array = np.random.randint(10, 49, size=39)\n",
    "print(\"task 1, одномерный массив, со значениями от 10 до 49: \")\n",
    "print(array)\n",
    "\n",
    "# разворачиваем массив\n",
    "array_new = array[::-1]\n",
    "print(\"task 2, развернутый:\")\n",
    "print(array_new)\n",
    "\n",
    "# находим все четные элементы в развернутом массиве\n",
    "even_elements = [element for element in array_new if element % 2 == 0]\n",
    "\n",
    "# выводим результат\n",
    "print(\"task 3, четные элементы массива:\")\n",
    "print(even_elements)\n"
   ]
  },
  {
   "cell_type": "markdown",
   "metadata": {},
   "source": [
    "### Создайте двумерный массив 3x3 со значениями от 0 до 8"
   ]
  },
  {
   "cell_type": "code",
   "execution_count": 50,
   "metadata": {},
   "outputs": [
    {
     "name": "stdout",
     "output_type": "stream",
     "text": [
      "task 1, двумерный массив 3x3 со значениями от 0 до 8:\n",
      "[[0 1 2]\n",
      " [3 4 5]\n",
      " [6 7 8]]\n"
     ]
    }
   ],
   "source": [
    "# Создание двумерного массива 3x3 со значениями от 0 до 8\n",
    "array = np.arange(9).reshape(3, 3)\n",
    "print(\"task 1, двумерный массив 3x3 со значениями от 0 до 8:\")\n",
    "print(array)\n"
   ]
  },
  {
   "cell_type": "markdown",
   "metadata": {},
   "source": [
    "### Создайте массив 4x3x2 со случайными значениями. Найти его минимум и максимум."
   ]
  },
  {
   "cell_type": "code",
   "execution_count": 64,
   "metadata": {},
   "outputs": [
    {
     "name": "stdout",
     "output_type": "stream",
     "text": [
      "task 1, массив 4x3x2\n",
      "[[[70 63]\n",
      "  [56  4]\n",
      "  [70 45]]\n",
      "\n",
      " [[14 65]\n",
      "  [52 14]\n",
      "  [58 48]]\n",
      "\n",
      " [[15 93]\n",
      "  [93 16]\n",
      "  [66  7]]\n",
      "\n",
      " [[46  2]\n",
      "  [24 34]\n",
      "  [64 74]]]\n",
      "task 2, Минимум: 2\n",
      "task 3, Максимум: 93\n"
     ]
    }
   ],
   "source": [
    "# cоздаем массив 4x3x2 со случайными значениями от 0 до 100\n",
    "random_array = np.random.randint(0, 101, size=(4, 3, 2))\n",
    "\n",
    "# находим минимум и максимум в массиве\n",
    "min_value = np.min(random_array)\n",
    "max_value = np.max(random_array)\n",
    "\n",
    "# выводим результаты\n",
    "print(\"task 1, массив 4x3x2\")\n",
    "print(random_array)\n",
    "print(\"task 2, Минимум:\", min_value)\n",
    "print(\"task 3, Максимум:\", max_value)\n"
   ]
  },
  {
   "cell_type": "markdown",
   "metadata": {},
   "source": [
    "### Создайте два двумерных массива размерами 6x4 и 4x3 и произведите их матричное умножение. "
   ]
  },
  {
   "cell_type": "code",
   "execution_count": 65,
   "metadata": {},
   "outputs": [
    {
     "name": "stdout",
     "output_type": "stream",
     "text": [
      "Первый массив:\n",
      " [[27 36 56 61]\n",
      " [ 5 15 37 55]\n",
      " [84 68 58 35]\n",
      " [48 95  1  8]\n",
      " [30 96 46 41]\n",
      " [22 55 54  5]]\n",
      "Второй массив:\n",
      " [[91  1  0]\n",
      " [43  9 29]\n",
      " [85 50 24]\n",
      " [53 14 22]]\n",
      "Произведение матриц:\n",
      " [[11998  4005  3730]\n",
      " [ 7160  2760  2533]\n",
      " [17353  4086  4134]\n",
      " [ 8962  1065  2955]\n",
      " [12941  3768  4790]\n",
      " [ 9222  3287  3001]]\n"
     ]
    }
   ],
   "source": [
    "# создание первого массива размером 6x4\n",
    "array1 = np.random.randint(0, 101, size=(6, 4))\n",
    "\n",
    "# создание второго массива размером 4x3\n",
    "array2 = np.random.randint(0, 101, size=(4, 3))\n",
    "\n",
    "# матричное умножение\n",
    "product = np.matmul(array1, array2)\n",
    "\n",
    "# вывод результатов\n",
    "print(\"Первый массив:\\n\", array1)\n",
    "print(\"Второй массив:\\n\", array2)\n",
    "print(\"Произведение матриц:\\n\", product)\n"
   ]
  },
  {
   "cell_type": "markdown",
   "metadata": {},
   "source": [
    "### Создайте случайный двумерный массив 7x7, найти у него среднее и стандартное оклонение. Нормализуйте этот массив."
   ]
  },
  {
   "cell_type": "code",
   "execution_count": 81,
   "metadata": {},
   "outputs": [
    {
     "name": "stdout",
     "output_type": "stream",
     "text": [
      "Созданный  случайный массив:\n",
      "[[47  2 39 35 94 97 15]\n",
      " [37 45 85 37 26  9 79]\n",
      " [85 80 94  8  6  5 13]\n",
      " [83 62 38 82  2 91 71]\n",
      " [15 74 98 70 41  3 93]\n",
      " [79 95 42 17 67  0  7]\n",
      " [ 6 57 62 39 90 89 64]]\n",
      "Среднее значение: 50.51020408163265\n",
      "Стандартное отклонение: 33.05908282304891\n",
      "Нормализованный массив:\n",
      "[[-0.10617972 -1.46737901 -0.3481707  -0.46916619  1.31551732  1.40626394\n",
      "  -1.07414366]\n",
      " [-0.40866845 -0.16667746  1.04327746 -0.40866845 -0.74140605 -1.25563689\n",
      "   0.86178422]\n",
      " [ 1.04327746  0.89203309  1.31551732 -1.28588577 -1.34638351 -1.37663239\n",
      "  -1.1346414 ]\n",
      " [ 0.98277971  0.34755338 -0.37841958  0.95253084 -1.46737901  1.2247707\n",
      "   0.61979324]\n",
      " [-1.07414366  0.71053986  1.43651281  0.58954436 -0.28767296 -1.43713013\n",
      "   1.28526844]\n",
      " [ 0.86178422  1.34576619 -0.25742408 -1.01364591  0.49879774 -1.52787675\n",
      "  -1.31613464]\n",
      " [-1.34638351  0.19630901  0.34755338 -0.3481707   1.19452182  1.16427295\n",
      "   0.40805112]]\n"
     ]
    }
   ],
   "source": [
    "# создаем случайный двумерный массив 7x7\n",
    "array = np.random.randint(0, 101, size=(7, 7))\n",
    "\n",
    "# находим среднее значение всех элементов массива\n",
    "mean = array.mean()\n",
    "\n",
    "# находим стандартное отклонение всех элементов массива\n",
    "std_dev = array.std()\n",
    "\n",
    "# нормализуем массив, разделив каждый элемент на стандартное отклонение и вычтя среднее\n",
    "normalized_arr = (array - mean) / std_dev\n",
    "\n",
    "# выводим результаты\n",
    "print(\"Созданный  случайный массив:\")\n",
    "print(array)\n",
    "print(\"Среднее значение:\", mean)\n",
    "print(\"Стандартное отклонение:\", std_dev)\n",
    "print(\"Нормализованный массив:\")\n",
    "print(normalized_arr)"
   ]
  },
  {
   "cell_type": "markdown",
   "metadata": {},
   "source": [
    "# II. Pandas"
   ]
  },
  {
   "cell_type": "markdown",
   "metadata": {},
   "source": [
    "### Импортируйте: pandas, matplotlib, seaborn"
   ]
  },
  {
   "cell_type": "code",
   "execution_count": null,
   "metadata": {},
   "outputs": [],
   "source": []
  },
  {
   "cell_type": "markdown",
   "metadata": {},
   "source": [
    "### Загрузите датасет Tips из набора датасетов seaborn"
   ]
  },
  {
   "cell_type": "code",
   "execution_count": null,
   "metadata": {},
   "outputs": [],
   "source": []
  },
  {
   "cell_type": "markdown",
   "metadata": {},
   "source": [
    "### Посмотрите на первые 5 строчек"
   ]
  },
  {
   "cell_type": "code",
   "execution_count": null,
   "metadata": {},
   "outputs": [],
   "source": []
  },
  {
   "cell_type": "markdown",
   "metadata": {},
   "source": [
    "### Узнайте сколько всего строчек и колонок в данных"
   ]
  },
  {
   "cell_type": "code",
   "execution_count": null,
   "metadata": {},
   "outputs": [],
   "source": []
  },
  {
   "cell_type": "markdown",
   "metadata": {},
   "source": [
    "### Проверьте есть ли пропуски в данных"
   ]
  },
  {
   "cell_type": "code",
   "execution_count": null,
   "metadata": {},
   "outputs": [],
   "source": []
  },
  {
   "cell_type": "markdown",
   "metadata": {},
   "source": [
    "### Посмотрите на распределение числовых признаков"
   ]
  },
  {
   "cell_type": "code",
   "execution_count": null,
   "metadata": {},
   "outputs": [],
   "source": []
  },
  {
   "cell_type": "markdown",
   "metadata": {},
   "source": [
    "### Найдите максимальное значение 'total_bill'"
   ]
  },
  {
   "cell_type": "code",
   "execution_count": null,
   "metadata": {},
   "outputs": [],
   "source": []
  },
  {
   "cell_type": "markdown",
   "metadata": {},
   "source": [
    "### Найдите количество курящих людей"
   ]
  },
  {
   "cell_type": "code",
   "execution_count": null,
   "metadata": {},
   "outputs": [],
   "source": []
  },
  {
   "cell_type": "markdown",
   "metadata": {},
   "source": [
    "### Узнайте какой средний 'total_bill' в зависимости от 'day'"
   ]
  },
  {
   "cell_type": "code",
   "execution_count": null,
   "metadata": {},
   "outputs": [],
   "source": []
  },
  {
   "cell_type": "markdown",
   "metadata": {},
   "source": [
    "### Отберите строчки с 'total_bill' больше медианы и узнайте какой средний 'tip' в зависимости от 'sex'"
   ]
  },
  {
   "cell_type": "code",
   "execution_count": null,
   "metadata": {},
   "outputs": [],
   "source": []
  },
  {
   "cell_type": "markdown",
   "metadata": {},
   "source": [
    "### Преобразуйте признак 'smoker' в бинарный (0-No, 1-Yes)"
   ]
  },
  {
   "cell_type": "code",
   "execution_count": null,
   "metadata": {},
   "outputs": [],
   "source": []
  },
  {
   "cell_type": "markdown",
   "metadata": {},
   "source": [
    "# III. Visualization"
   ]
  },
  {
   "cell_type": "markdown",
   "metadata": {},
   "source": [
    "### Постройте гистограмму распределения признака 'total_bill'"
   ]
  },
  {
   "cell_type": "code",
   "execution_count": null,
   "metadata": {},
   "outputs": [],
   "source": []
  },
  {
   "cell_type": "markdown",
   "metadata": {},
   "source": [
    "### Постройте scatterplot, представляющий взаимосвязь между признаками 'total_bill' и 'tip'"
   ]
  },
  {
   "cell_type": "code",
   "execution_count": null,
   "metadata": {},
   "outputs": [],
   "source": []
  },
  {
   "cell_type": "markdown",
   "metadata": {},
   "source": [
    "### Постройте pairplot"
   ]
  },
  {
   "cell_type": "code",
   "execution_count": null,
   "metadata": {},
   "outputs": [],
   "source": []
  },
  {
   "cell_type": "markdown",
   "metadata": {},
   "source": [
    "### Постройте график взаимосвязи между признаками 'total_bill' и 'day'"
   ]
  },
  {
   "cell_type": "code",
   "execution_count": null,
   "metadata": {},
   "outputs": [],
   "source": []
  },
  {
   "cell_type": "markdown",
   "metadata": {},
   "source": [
    "### Постройте две гистограммы распределения признака 'tip' в зависимости от категорий 'time'"
   ]
  },
  {
   "cell_type": "code",
   "execution_count": null,
   "metadata": {},
   "outputs": [],
   "source": []
  },
  {
   "cell_type": "markdown",
   "metadata": {},
   "source": [
    "### Постройте два графика scatterplot, представляющих взаимосвязь между признаками 'total_bill' и 'tip' один для Male, другой для Female и раскрасьте точки в зависимоти от признака 'smoker'"
   ]
  },
  {
   "cell_type": "code",
   "execution_count": null,
   "metadata": {},
   "outputs": [],
   "source": []
  },
  {
   "cell_type": "markdown",
   "metadata": {},
   "source": [
    "## Сделайте выводы по анализу датасета и построенным графикам. По желанию можете продолжить анализ данных и также отразить это в выводах."
   ]
  },
  {
   "cell_type": "code",
   "execution_count": null,
   "metadata": {},
   "outputs": [],
   "source": []
  }
 ],
 "metadata": {
  "kernelspec": {
   "display_name": "Python 3 (ipykernel)",
   "language": "python",
   "name": "python3"
  },
  "language_info": {
   "codemirror_mode": {
    "name": "ipython",
    "version": 3
   },
   "file_extension": ".py",
   "mimetype": "text/x-python",
   "name": "python",
   "nbconvert_exporter": "python",
   "pygments_lexer": "ipython3",
   "version": "3.9.12"
  },
  "toc-autonumbering": false
 },
 "nbformat": 4,
 "nbformat_minor": 2
}
