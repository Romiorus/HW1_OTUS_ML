{
 "cells": [
  {
   "cell_type": "code",
   "execution_count": 1,
   "metadata": {
    "slideshow": {
     "slide_type": "slide"
    }
   },
   "outputs": [],
   "source": [
    "import numpy as np"
   ]
  },
  {
   "cell_type": "markdown",
   "metadata": {
    "slideshow": {
     "slide_type": "subslide"
    }
   },
   "source": [
    "### Задача1. Дано:\n",
    "```python\n",
    "A = np.array([\n",
    "    [2, -4],\n",
    "    [3, 5],\n",
    "    [-1, 0]\n",
    "])\n",
    "B = np.array([\n",
    "    [1, 2, 7],\n",
    "    [-3, -4, 0],\n",
    "    [5, 2, 1]\n",
    "])\n",
    "C = np.array([\n",
    "    [6, -3, 9],\n",
    "    [4, -5, 2],\n",
    "    [8, 1, 5]\n",
    "])\n",
    "```\n",
    "\n",
    "Посчитайть матрицу D = A^⊤C − 2A^⊤B^⊤. Приведите полную последовательность вычислений."
   ]
  },
  {
   "cell_type": "code",
   "execution_count": 2,
   "metadata": {
    "scrolled": true
   },
   "outputs": [
    {
     "name": "stdout",
     "output_type": "stream",
     "text": [
      "Матрица A^⊤ : \n",
      " [[ 2  3 -1]\n",
      " [-4  5  0]] \n",
      "\n",
      "Матрица B^⊤ : \n",
      " [[ 1 -3  5]\n",
      " [ 2 -4  2]\n",
      " [ 7  0  1]] \n",
      "\n",
      "Умножили A^⊤ * C : \n",
      " [[ 16 -22  19]\n",
      " [ -4 -13 -26]] \n",
      "\n",
      "Умножили -2 * A^⊤ * B^⊤ : \n",
      " [[ -2  36 -30]\n",
      " [-12  16  20]] \n",
      "\n",
      "Вычисляем D = A^⊤ * C - 2A^⊤ * B^⊤ : \n",
      " [[ 14  14 -11]\n",
      " [-16   3  -6]] \n",
      "\n"
     ]
    }
   ],
   "source": [
    "# Задаем матрицы a, b, c\n",
    "a = np.array([\n",
    "    [2, -4],\n",
    "    [3, 5],\n",
    "    [-1, 0]\n",
    "])\n",
    "b = np.array([\n",
    "    [1, 2, 7],\n",
    "    [-3, -4, 0],\n",
    "    [5, 2, 1]\n",
    "])\n",
    "c = np.array([\n",
    "    [6, -3, 9],\n",
    "    [4, -5, 2],\n",
    "    [8, 1, 5]\n",
    "])\n",
    "\n",
    "# Вычисляем A^⊤\n",
    "at = a.T\n",
    "print(\"Матрица A^⊤ :\", '\\n', at, '\\n')\n",
    "\n",
    "\n",
    "# Вычисляем B^⊤\n",
    "bt = b.T\n",
    "print(\"Матрица B^⊤ :\", '\\n', bt, '\\n')\n",
    "\n",
    "# Вычисляем A^⊤ C\n",
    "at_c = np.dot(a.T, c)\n",
    "\n",
    "print(\"Умножили A^⊤ * C :\", '\\n', at_c, '\\n') \n",
    "\n",
    "# Вычисляем -2 * A^T B^T\n",
    "minus_two_at_bt = -2 * np.dot(a.T, b.T)\n",
    "\n",
    "print(\"Умножили -2 * A^⊤ * B^⊤ :\", '\\n', minus_two_at_bt, '\\n') \n",
    "\n",
    "# Вычисляем D = A^T C - 2A^T B^T\n",
    "d = at_c + minus_two_at_bt\n",
    "\n",
    "# Выводим результат\n",
    "print(\"Вычисляем D = A^⊤ * C - 2A^⊤ * B^⊤ :\", '\\n', d, '\\n')"
   ]
  },
  {
   "cell_type": "markdown",
   "metadata": {},
   "source": [
    "### Задача2: Дано выражение:\n",
    "3A + 2B = C,\n",
    "где a, b, c матрицы вида:\n",
    "```python\n",
    "A = [\n",
    "    [x, 2, 3],\n",
    "    [-1, y, 4]\n",
    "]    \n",
    "B = [\n",
    "    [1, 2, -5],\n",
    "    [2, -6, z]\n",
    "]\n",
    "C = [\n",
    "    [8, v, -1],\n",
    "    [1, 6, 4]\n",
    "]\n",
    "```\n",
    "Найдите значения x, y, z и v, при которых выражение верно."
   ]
  },
  {
   "cell_type": "markdown",
   "metadata": {},
   "source": [
    "Для решения данного уравнения нам нужно составить систему уравнений на основе данных матриц A, B, C.\n",
    "\n",
    "Из исходного уравнения:\n",
    "3A + 2B = C\n",
    "\n",
    "Мы можем записать уравнение для каждого элемента матриц A, B, C:\n",
    "\n",
    "3x + 2 * 1 = 8; \n",
    "3 * 2 + 2 * 2 = v; \n",
    "3 * 3 + 2 * (-5) = -1; \n",
    "3 * (-1) + 2 * (2) = 1; \n",
    "3 * y + 2 * (-6) = 6; \n",
    "3 * 4 + 2 * z = 4 \n",
    "\n",
    "Теперь можем решить эту полученные уравнения для x, y, z и v:\n",
    "3 * x + 2 = 8; \n",
    "6 + 4 = v; \n",
    "3 * y - 12 = 6; \n",
    "12 + 2 * z = 4 \n",
    "\n",
    "Отсюда получаем:\n",
    "x = 2;\n",
    "v = 10;\n",
    "y = 6;\n",
    "z = -4"
   ]
  },
  {
   "cell_type": "code",
   "execution_count": 4,
   "metadata": {},
   "outputs": [],
   "source": [
    "#создать универсальный проект по решению такой задачи сложно.\n",
    "#рассмотрим частный случай, пусть даны матрицы и неизвестные имеют значение None найдем эти неизвестные с помощью python\n",
    "x = None\n",
    "v = None\n",
    "y = None\n",
    "z = None\n",
    "a = np.array([\n",
    "    [x, 2, 3], \n",
    "    [-1, y, 4]\n",
    "])\n",
    "b = np.array([\n",
    "    [1, 2, -5], \n",
    "    [-2, -6, z]\n",
    "])\n",
    "c = np.array([\n",
    "    [8, v, -1], \n",
    "    [1, 6, 4]\n",
    "])"
   ]
  },
  {
   "cell_type": "code",
   "execution_count": 5,
   "metadata": {},
   "outputs": [],
   "source": [
    "#функция поиска индексов неизвестных\n",
    "def find_x_and_result (matrix):\n",
    "    indices = np.argwhere(matrix == None)\n",
    "    chek = list(indices)\n",
    "    if chek != []:\n",
    "        result = []\n",
    "        for index in indices:\n",
    "            result.append(tuple(index))\n",
    "        return result\n",
    "    else:\n",
    "        return None"
   ]
  },
  {
   "cell_type": "code",
   "execution_count": 6,
   "metadata": {
    "scrolled": true
   },
   "outputs": [
    {
     "name": "stdout",
     "output_type": "stream",
     "text": [
      "матрица:\n",
      "[[None 2 3]\n",
      " [-1 None 4]]\n",
      " индексы неизвестных:\n",
      "(0, 0)\n",
      "(1, 1)\n",
      "найдены значение:\n",
      "2\n",
      "6\n",
      "матрица:\n",
      "[[1 2 -5]\n",
      " [-2 -6 None]]\n",
      " индексы неизвестных:\n",
      "(1, 2)\n",
      "найдены значение:\n",
      "-4\n",
      "матрица:\n",
      "[[8 None -1]\n",
      " [1 6 4]]\n",
      " индексы неизвестных:\n",
      "(0, 1)\n",
      "найдены значение:\n",
      "10\n",
      "всего в задаче найдено 4 переменных. \n",
      " Ответ списком: \n",
      " [2, 6, -4, 10]\n"
     ]
    }
   ],
   "source": [
    "#решение для заданного уравнения \"3a + 2b = c\"\n",
    "task_result = []\n",
    "for matrix in [a, b, c]:\n",
    "    list_var_pos = find_x_and_result (matrix)\n",
    "    if list_var_pos != None:\n",
    "        print (f\"матрица:\\n{matrix}\\n индексы неизвестных:\")\n",
    "        for i in range(len(list_var_pos)):\n",
    "            print(list_var_pos[i])\n",
    "        print ('найдены значение:')\n",
    "        if (matrix == a).all():\n",
    "            for j in range(len(list_var_pos)):\n",
    "                var_result =  int((c[list_var_pos[j]] - 2 * b[list_var_pos[j]])/3)\n",
    "                print (var_result)\n",
    "                task_result.append(var_result)\n",
    "        elif (matrix == b).all():\n",
    "            for j in range(len(list_var_pos)):\n",
    "                var_result =  int((c[list_var_pos[j]] - 3 * a[list_var_pos[j]])/2)\n",
    "                print (var_result)\n",
    "                task_result.append(var_result)\n",
    "        else:\n",
    "            for j in range(len(list_var_pos)):\n",
    "                var_result =  int(3 * a[list_var_pos[j]] + 2 * b[list_var_pos[j]])\n",
    "                print (var_result)\n",
    "                task_result.append(var_result)\n",
    "    else:\n",
    "        print (f\"в матрице:\\n{matrix}\\n неизвестных нет\")\n",
    "print (f\"всего в задаче найдено {len(task_result)} переменных. \\n Ответ списком: \\n {task_result}\")"
   ]
  },
  {
   "cell_type": "markdown",
   "metadata": {},
   "source": [
    "### Задача3. Укажите те значения параметров p и q, при которых ранг матрицы \n",
    "```python\n",
    "a = np.array([\n",
    "    [1, 2, 3], \n",
    "    [3, 6, p],\n",
    "    [5, 10, q]\n",
    "])\n",
    "```\n",
    "равен единице."
   ]
  },
  {
   "cell_type": "code",
   "execution_count": 8,
   "metadata": {},
   "outputs": [
    {
     "name": "stdout",
     "output_type": "stream",
     "text": [
      "Ранг матрицы a равен: 2\n"
     ]
    }
   ],
   "source": [
    "#Допустим,\n",
    "p = 0\n",
    "q = 0\n",
    "a = np.array([\n",
    "    [1, 2, 3], \n",
    "    [3, 6, p], \n",
    "    [5, 10, q]\n",
    "])\n",
    "\n",
    "# Найти ранг матрицы\n",
    "rank = np.linalg.matrix_rank(a)\n",
    "print(f\"Ранг матрицы a равен: {rank}\")"
   ]
  },
  {
   "cell_type": "markdown",
   "metadata": {},
   "source": [
    "Ранг матрицы — это максимальное количество линейно независимых строк (или столбцов) в этой матрице. \n",
    "Матрица имеет ранг единица, если все её строки (или столбцы) пропорциональны друг другу.\n",
    "\n",
    "Для матрицы А ранг будет равен единице, если любая строка может быть получена путем умножения другой строки на некоторое число. Учитывая, что в данном примере 1 строка не имеет переменных.\n",
    "\n",
    "Можно сделать вывод, что, для того чтобы ранг матрицы был равен единице, должно выполняться следующее условие:\n",
    "```\n",
    "[3, 6, p] = k*[1, 2, 3] => из элементов 1 и 2 столбцов следует, что k=3, => p = 3 * 3 = 9\n",
    "и \n",
    "[5, 10, q] = m*[1, 2, 3] => из элементов 1 и 2 столбцов следует, что m=5 => q = 3 * 5 = 15\n",
    "```"
   ]
  },
  {
   "cell_type": "code",
   "execution_count": 9,
   "metadata": {},
   "outputs": [
    {
     "name": "stdout",
     "output_type": "stream",
     "text": [
      "Ранг матрицы a равен: 1\n"
     ]
    }
   ],
   "source": [
    "p = 9\n",
    "q = 15\n",
    "a = np.array([[1, 2, 3], [3, 6, p], [5, 10, q]])\n",
    "\n",
    "# Найти ранг матрицы\n",
    "rank = np.linalg.matrix_rank(a)\n",
    "print(f\"Ранг матрицы a равен: {rank}\")"
   ]
  },
  {
   "cell_type": "markdown",
   "metadata": {},
   "source": [
    "## Задача4.1 \n",
    "Относительно канонического (стандартного) базиса в R^2 даны три вектора a1 = (2,−5)^⊤, a2 = (−1, 3)^⊤,\n",
    "и x = (1,−4)^⊤. Примите векторы a1, a2 за новый базис B, предварительно проверив, что они линейно\n",
    "независимы.\n",
    "(a) Найдите координаты [x]B вектора x в новом базисе."
   ]
  },
  {
   "cell_type": "code",
   "execution_count": 12,
   "metadata": {},
   "outputs": [
    {
     "name": "stdout",
     "output_type": "stream",
     "text": [
      "Векторы a1 и a2 линейно независимы, можно принять их за новый базис B.\n",
      "Координаты вектора x в новом базисе B: [-1. -3.]\n"
     ]
    }
   ],
   "source": [
    "#Для того чтобы проверить, что векторы a1 и a2 линейно независимы, составим матрицу из этих векторов:\n",
    "# заданные векторы\n",
    "a1 = np.array([2, -5])\n",
    "a2 = np.array([-1, 3])\n",
    "x = np.array([1, -4])\n",
    "\n",
    "# составляем матрицу из базисных векторов\n",
    "A = np.vstack((a1, a2)).T\n",
    "\n",
    "# проверяем их линейную независимость\n",
    "det_A = np.linalg.det(A)\n",
    "if det_A != 0:\n",
    "    print(\"Векторы a1 и a2 линейно независимы, можно принять их за новый базис B.\")\n",
    "else:\n",
    "    print(\"Ошибка: векторы a1 и a2 линейно зависимы.\")\n",
    "\n",
    "# находим координаты вектора x в новом базисе\n",
    "c = np.linalg.solve(A, x)\n",
    "print(\"Координаты вектора x в новом базисе B:\", c)"
   ]
  },
  {
   "cell_type": "markdown",
   "metadata": {},
   "source": [
    "## Задача 4.2 \n",
    "Предположим, что координаты вектора y в базисе B заданы [y]B = (1, 1)T . Найдите координаты\n",
    "вектора y в стандартном базисе."
   ]
  },
  {
   "cell_type": "code",
   "execution_count": 18,
   "metadata": {},
   "outputs": [
    {
     "name": "stdout",
     "output_type": "stream",
     "text": [
      "[[ 1]\n",
      " [-2]]\n"
     ]
    }
   ],
   "source": [
    "#Для нахождения координат вектора y в стандартном базисе из его координат в базисе B, \n",
    "#нужно воспользоваться формулой изменения координат:\n",
    "\n",
    "#[y]_std = [y]_B * [B]_std,\n",
    "\n",
    "#где [y]_std - координаты вектора y в стандартном базисе, [y]_B - координаты вектора y в базисе B, а [B]_std - матрица перехода от базиса B к стандартному базису.\n",
    "\n",
    "#Сначала найдем матрицу перехода [B]_std, составленную из базисных векторов a1 и a2:\n",
    "\n",
    "a1 = np.array([[2], [-5]])\n",
    "a2 = np.array([[-1], [3]])\n",
    "\n",
    "B_std = np.hstack((a1, a2))\n",
    "\n",
    "#Теперь вычислим координаты вектора y в стандартном базисе:\n",
    "\n",
    "y_B = np.array([[1], [1]])\n",
    "\n",
    "y_std = np.dot(B_std, y_B)\n",
    "\n",
    "print(y_std)"
   ]
  },
  {
   "attachments": {
    "image-2.png": {
     "image/png": "[encoded data removed]"
    }
   },
   "cell_type": "markdown",
   "metadata": {},
   "source": [
    "### Задача 5\n",
    "Исследовательское задание: малоранговая аппроксимация матрицы. \n",
    "Сгенерируйте случайную квадратную матрицу A ∈ Rn×n, n ≥ 100. \n",
    "\n",
    "С помощью функции numpy.linalg.svd выполните сингулярное разложение этой матрицы, \n",
    "и получите три матрицы: U, S, V ⊤. \n",
    "\n",
    "Выполняйте аппроксимацию матрицы A с рангом r, меняя его значение, например, от 2 до n:\n",
    "``` \n",
    "A˜ = U[:, : r]S[: r, : r]V^⊤[: r, :],\n",
    "```\n",
    "и каждый раз считайте ошибку апроксимации (как восстановленная матрица отличается от исходной):\n",
    "\n",
    "![image-2.png](attachment:image-2.png)\n",
    "\n",
    "```\n",
    "Используя библиотеку matplotlib, постройте график зависимости ошибки аппроксимации матрицы от\n",
    "ранга r.\n",
    "```"
   ]
  },
  {
   "cell_type": "code",
   "execution_count": 19,
   "metadata": {},
   "outputs": [
    {
     "data": {
      "image/png": "[encoded data removed]",
      "text/plain": [
       "<Figure size 432x288 with 1 Axes>"
      ]
     },
     "metadata": {
      "needs_background": "light"
     },
     "output_type": "display_data"
    }
   ],
   "source": [
    "import matplotlib.pyplot as plt\n",
    "\n",
    "# Генерация случайной квадратной матрицы A\n",
    "n = 100\n",
    "A = np.random.rand(n, n)\n",
    "\n",
    "# Выполнение сингулярного разложения\n",
    "U, S, Vt = np.linalg.svd(A)\n",
    "\n",
    "# Массив для хранения ошибок аппроксимации\n",
    "errors = []\n",
    "\n",
    "# Вычисление ошибки аппроксимации для различных значений ранга r\n",
    "for r in range(2, n):\n",
    "    A_approx = U[:, :r] @ np.diag(S[:r]) @ Vt[:r, :]\n",
    "    error = np.linalg.norm(A - A_approx, 'fro')  # Норма Фробениуса для ошибки\n",
    "    errors.append(error)\n",
    "\n",
    "# Построение графика зависимости ошибки от ранга\n",
    "plt.plot(range(2, n), errors)\n",
    "plt.xlabel('Ранг r')\n",
    "plt.ylabel('Ошибка аппроксимации')\n",
    "plt.title('Зависимость ошибки аппроксимации от ранга r')\n",
    "plt.grid()\n",
    "plt.show()"
   ]
  },
  {
   "cell_type": "code",
   "execution_count": null,
   "metadata": {},
   "outputs": [],
   "source": []
  }
 ],
 "metadata": {
  "celltoolbar": "Raw Cell Format",
  "kernelspec": {
   "display_name": "Python 3 (ipykernel)",
   "language": "python",
   "name": "python3"
  },
  "language_info": {
   "codemirror_mode": {
    "name": "ipython",
    "version": 3
   },
   "file_extension": ".py",
   "mimetype": "text/x-python",
   "name": "python",
   "nbconvert_exporter": "python",
   "pygments_lexer": "ipython3",
   "version": "3.9.12"
  }
 },
 "nbformat": 4,
 "nbformat_minor": 2
}
